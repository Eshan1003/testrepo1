{
 "cells": [
  {
   "cell_type": "markdown",
   "id": "230bc60e-0836-485a-a2e8-89e83285c4d2",
   "metadata": {},
   "source": [
    "# Data Science Tools and Ecosystem"
   ]
  },
  {
   "cell_type": "markdown",
   "id": "4b0cdd8d-20be-41b6-a5b3-83a69e73c44b",
   "metadata": {},
   "source": [
    "In this notebook, Data Science Tools and Ecosystem are summarized."
   ]
  },
  {
   "cell_type": "markdown",
   "id": "7a94ee00-9c52-4e85-9458-e404f07e4836",
   "metadata": {},
   "source": [
    "Some of the popular languages that Data Scientist use are:\n",
    "\n",
    "  1. Python\n",
    "  2. SQL\n",
    "  3. R\n",
    "  4. C++\n",
    "  5. Java etc..;"
   ]
  },
  {
   "cell_type": "markdown",
   "id": "d9ca14ce-bbd9-47e4-9ae2-70db8a3f8862",
   "metadata": {},
   "source": [
    "Some of the commonly used libraries used by Data Scientist include:\n",
    "\n",
    "  1. TensorFlow.\n",
    "  2. NumPy.\n",
    "  3. SciPy.\n",
    "  4. Pandas.\n",
    "  5. Matplotlib.\n",
    "  6. Keras.\n",
    "  7. SciKit-Learn.\n",
    "  8. PyTorch. eyc..;"
   ]
  },
  {
   "cell_type": "code",
   "execution_count": null,
   "id": "bdcf3aed-8a16-4c4d-aa88-e0cda9281a15",
   "metadata": {},
   "outputs": [],
   "source": [
    " "
   ]
  },
  {
   "cell_type": "markdown",
   "id": "a8517c55-40f4-4599-b1bb-933825692c37",
   "metadata": {
    "tags": []
   },
   "source": [
    "|Data Science Tools|\n",
    "|---|\n",
    "|SAS|\n",
    "|Apache Hadoop|\n",
    "|TensorFlow|"
   ]
  },
  {
   "cell_type": "markdown",
   "id": "65b99a29-f133-4494-aa40-ad3169c327a8",
   "metadata": {},
   "source": [
    "### Below are a few examples of evaluating arithmetic expressions on Python."
   ]
  },
  {
   "cell_type": "code",
   "execution_count": 1,
   "id": "6d34fd5b-489f-48e8-97ec-f09aece97d31",
   "metadata": {
    "tags": []
   },
   "outputs": [
    {
     "data": {
      "text/plain": [
       "17"
      ]
     },
     "execution_count": 1,
     "metadata": {},
     "output_type": "execute_result"
    }
   ],
   "source": [
    "#this is a common arithmetic example to multiply and then add integers\n",
    "(3*4)+5"
   ]
  },
  {
   "cell_type": "code",
   "execution_count": 2,
   "id": "962437b4-6aca-49df-9925-7a89c8fc65af",
   "metadata": {
    "tags": []
   },
   "outputs": [
    {
     "data": {
      "text/plain": [
       "3.3333333333333335"
      ]
     },
     "execution_count": 2,
     "metadata": {},
     "output_type": "execute_result"
    }
   ],
   "source": [
    "#This will convert 200 minutes to hours by dividing by 60\n",
    "200/60"
   ]
  },
  {
   "cell_type": "markdown",
   "id": "e71c639c-3eb5-4381-8e49-2b776f4fb966",
   "metadata": {},
   "source": [
    "_Objective_\n",
    "* List popular languages for Data Science\n",
    "* List popular libraries for Data Science\n",
    "* List of well known Data Science Tools\n",
    "* How to provide comments in the cell"
   ]
  },
  {
   "cell_type": "markdown",
   "id": "75b42846-7331-482e-a0d2-dcbdbf612625",
   "metadata": {
    "tags": []
   },
   "source": [
    "## Author\n",
    "   Eshan Dagade"
   ]
  }
 ],
 "metadata": {
  "kernelspec": {
   "display_name": "Python",
   "language": "python",
   "name": "conda-env-python-py"
  },
  "language_info": {
   "codemirror_mode": {
    "name": "ipython",
    "version": 3
   },
   "file_extension": ".py",
   "mimetype": "text/x-python",
   "name": "python",
   "nbconvert_exporter": "python",
   "pygments_lexer": "ipython3",
   "version": "3.7.12"
  }
 },
 "nbformat": 4,
 "nbformat_minor": 5
}
